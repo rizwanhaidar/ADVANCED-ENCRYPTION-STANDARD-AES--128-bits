{
  "nbformat": 4,
  "nbformat_minor": 0,
  "metadata": {
    "colab": {
      "provenance": [],
      "include_colab_link": true
    },
    "kernelspec": {
      "name": "python3",
      "display_name": "Python 3"
    },
    "language_info": {
      "name": "python"
    }
  },
  "cells": [
    {
      "cell_type": "markdown",
      "metadata": {
        "id": "view-in-github",
        "colab_type": "text"
      },
      "source": [
        "<a href=\"https://colab.research.google.com/github/rizwanhaidar/ADVANCED-ENCRYPTION-STANDARD-AES--128-bits/blob/master/VDA_Assignment_3_Exercise_1_2.ipynb\" target=\"_parent\"><img src=\"https://colab.research.google.com/assets/colab-badge.svg\" alt=\"Open In Colab\"/></a>"
      ]
    },
    {
      "cell_type": "markdown",
      "source": [
        "# VDA Assignment 3\n",
        "## Group Members\n",
        "#### Maaz Asad (s65masad)\n",
        "#### Maria Yasir (s09myasi)\n",
        "#### Rizwan Haidar (s83rhaid)\n",
        "\n"
      ],
      "metadata": {
        "id": "nVxWJqjNwUn0"
      }
    },
    {
      "cell_type": "markdown",
      "source": [
        "Following are the imported libraries used for this assignment"
      ],
      "metadata": {
        "id": "qpdgyfpHwYvR"
      }
    },
    {
      "cell_type": "code",
      "execution_count": 1,
      "metadata": {
        "id": "WCcbe-4RtmX1"
      },
      "outputs": [],
      "source": [
        "import pandas as pd\n",
        "import seaborn as sns\n",
        "import matplotlib.pyplot as plt\n",
        "import plotly.express as px\n",
        "from sklearn.feature_selection import f_classif\n",
        "import numpy as np\n",
        "import random\n",
        "import types\n",
        "import warnings\n",
        "warnings.filterwarnings('ignore')\n",
        "import os"
      ]
    },
    {
      "cell_type": "markdown",
      "source": [
        "# Exercise 1\n",
        "## (Parallel Coordinates Plot in Plotly, 11 Points)\n",
        "\n",
        " Plotly is a plotting library with bindings for different programming languages. It enables the creation of interactive plots based on HTML, CSS and javascript. An introduction to the parallel coordinates plot with plotly can be found here: https://plot.ly/python/parallel-coordinates-plot/\n",
        "\n",
        "In this exercises, we will work with a Mice Protein Expression Dataset, which contains expression levels of 77 proteins, measured in the cerebral cortex of 8 classes of mice. The classes result from two genotypes (Ts65Dn, which serves as a mouse model of human down syndrome, vs. normal controls), two treatments\n",
        "(injection of the drug memantine vs. a saline solution as a control), and two experimental conditions related to context fear conditioning (context-shock, which should lead to learning, vs. shock-context, in which no learning takes place). Counting all repeated measurements, there are 1080 samples overall,\n",
        "some with missing data. You can find more information on the data in the corresponding publication.\n"
      ],
      "metadata": {
        "id": "X0c6LzSxwd-7"
      }
    },
    {
      "cell_type": "markdown",
      "source": [
        "### a) Use pandas to read the file Data_Cortex_Nuclear.xls provided via eCampus. Extract subgroups t-CS-s and c-CS-s. How many mice were measured for each class? (1P)"
      ],
      "metadata": {
        "id": "gUXmBkIUwt6H"
      }
    },
    {
      "cell_type": "code",
      "source": [
        "df = pd.read_excel(\"Data_Cortex_Nuclear.xls\")"
      ],
      "metadata": {
        "id": "e6tMn4zfwaXt"
      },
      "execution_count": 2,
      "outputs": []
    },
    {
      "cell_type": "code",
      "source": [
        "df.head()"
      ],
      "metadata": {
        "colab": {
          "base_uri": "https://localhost:8080/",
          "height": 342
        },
        "id": "6bbfOr7XxsiJ",
        "outputId": "8837802d-d1e9-4f96-95a2-2c5b496f5d48"
      },
      "execution_count": 3,
      "outputs": [
        {
          "output_type": "execute_result",
          "data": {
            "text/plain": [
              "  MouseID  DYRK1A_N   ITSN1_N    BDNF_N     NR1_N    NR2A_N    pAKT_N  \\\n",
              "0   309_1  0.503644  0.747193  0.430175  2.816329  5.990152  0.218830   \n",
              "1   309_2  0.514617  0.689064  0.411770  2.789514  5.685038  0.211636   \n",
              "2   309_3  0.509183  0.730247  0.418309  2.687201  5.622059  0.209011   \n",
              "3   309_4  0.442107  0.617076  0.358626  2.466947  4.979503  0.222886   \n",
              "4   309_5  0.434940  0.617430  0.358802  2.365785  4.718679  0.213106   \n",
              "\n",
              "    pBRAF_N  pCAMKII_N   pCREB_N  ...   pCFOS_N     SYP_N  H3AcK18_N  \\\n",
              "0  0.177565   2.373744  0.232224  ...  0.108336  0.427099   0.114783   \n",
              "1  0.172817   2.292150  0.226972  ...  0.104315  0.441581   0.111974   \n",
              "2  0.175722   2.283337  0.230247  ...  0.106219  0.435777   0.111883   \n",
              "3  0.176463   2.152301  0.207004  ...  0.111262  0.391691   0.130405   \n",
              "4  0.173627   2.134014  0.192158  ...  0.110694  0.434154   0.118481   \n",
              "\n",
              "     EGR1_N  H3MeK4_N    CaNA_N  Genotype  Treatment  Behavior   class  \n",
              "0  0.131790  0.128186  1.675652   Control  Memantine       C/S  c-CS-m  \n",
              "1  0.135103  0.131119  1.743610   Control  Memantine       C/S  c-CS-m  \n",
              "2  0.133362  0.127431  1.926427   Control  Memantine       C/S  c-CS-m  \n",
              "3  0.147444  0.146901  1.700563   Control  Memantine       C/S  c-CS-m  \n",
              "4  0.140314  0.148380  1.839730   Control  Memantine       C/S  c-CS-m  \n",
              "\n",
              "[5 rows x 82 columns]"
            ],
            "text/html": [
              "\n",
              "  <div id=\"df-8ab72f08-b82b-4a6d-9ac1-0513d2a4c64d\" class=\"colab-df-container\">\n",
              "    <div>\n",
              "<style scoped>\n",
              "    .dataframe tbody tr th:only-of-type {\n",
              "        vertical-align: middle;\n",
              "    }\n",
              "\n",
              "    .dataframe tbody tr th {\n",
              "        vertical-align: top;\n",
              "    }\n",
              "\n",
              "    .dataframe thead th {\n",
              "        text-align: right;\n",
              "    }\n",
              "</style>\n",
              "<table border=\"1\" class=\"dataframe\">\n",
              "  <thead>\n",
              "    <tr style=\"text-align: right;\">\n",
              "      <th></th>\n",
              "      <th>MouseID</th>\n",
              "      <th>DYRK1A_N</th>\n",
              "      <th>ITSN1_N</th>\n",
              "      <th>BDNF_N</th>\n",
              "      <th>NR1_N</th>\n",
              "      <th>NR2A_N</th>\n",
              "      <th>pAKT_N</th>\n",
              "      <th>pBRAF_N</th>\n",
              "      <th>pCAMKII_N</th>\n",
              "      <th>pCREB_N</th>\n",
              "      <th>...</th>\n",
              "      <th>pCFOS_N</th>\n",
              "      <th>SYP_N</th>\n",
              "      <th>H3AcK18_N</th>\n",
              "      <th>EGR1_N</th>\n",
              "      <th>H3MeK4_N</th>\n",
              "      <th>CaNA_N</th>\n",
              "      <th>Genotype</th>\n",
              "      <th>Treatment</th>\n",
              "      <th>Behavior</th>\n",
              "      <th>class</th>\n",
              "    </tr>\n",
              "  </thead>\n",
              "  <tbody>\n",
              "    <tr>\n",
              "      <th>0</th>\n",
              "      <td>309_1</td>\n",
              "      <td>0.503644</td>\n",
              "      <td>0.747193</td>\n",
              "      <td>0.430175</td>\n",
              "      <td>2.816329</td>\n",
              "      <td>5.990152</td>\n",
              "      <td>0.218830</td>\n",
              "      <td>0.177565</td>\n",
              "      <td>2.373744</td>\n",
              "      <td>0.232224</td>\n",
              "      <td>...</td>\n",
              "      <td>0.108336</td>\n",
              "      <td>0.427099</td>\n",
              "      <td>0.114783</td>\n",
              "      <td>0.131790</td>\n",
              "      <td>0.128186</td>\n",
              "      <td>1.675652</td>\n",
              "      <td>Control</td>\n",
              "      <td>Memantine</td>\n",
              "      <td>C/S</td>\n",
              "      <td>c-CS-m</td>\n",
              "    </tr>\n",
              "    <tr>\n",
              "      <th>1</th>\n",
              "      <td>309_2</td>\n",
              "      <td>0.514617</td>\n",
              "      <td>0.689064</td>\n",
              "      <td>0.411770</td>\n",
              "      <td>2.789514</td>\n",
              "      <td>5.685038</td>\n",
              "      <td>0.211636</td>\n",
              "      <td>0.172817</td>\n",
              "      <td>2.292150</td>\n",
              "      <td>0.226972</td>\n",
              "      <td>...</td>\n",
              "      <td>0.104315</td>\n",
              "      <td>0.441581</td>\n",
              "      <td>0.111974</td>\n",
              "      <td>0.135103</td>\n",
              "      <td>0.131119</td>\n",
              "      <td>1.743610</td>\n",
              "      <td>Control</td>\n",
              "      <td>Memantine</td>\n",
              "      <td>C/S</td>\n",
              "      <td>c-CS-m</td>\n",
              "    </tr>\n",
              "    <tr>\n",
              "      <th>2</th>\n",
              "      <td>309_3</td>\n",
              "      <td>0.509183</td>\n",
              "      <td>0.730247</td>\n",
              "      <td>0.418309</td>\n",
              "      <td>2.687201</td>\n",
              "      <td>5.622059</td>\n",
              "      <td>0.209011</td>\n",
              "      <td>0.175722</td>\n",
              "      <td>2.283337</td>\n",
              "      <td>0.230247</td>\n",
              "      <td>...</td>\n",
              "      <td>0.106219</td>\n",
              "      <td>0.435777</td>\n",
              "      <td>0.111883</td>\n",
              "      <td>0.133362</td>\n",
              "      <td>0.127431</td>\n",
              "      <td>1.926427</td>\n",
              "      <td>Control</td>\n",
              "      <td>Memantine</td>\n",
              "      <td>C/S</td>\n",
              "      <td>c-CS-m</td>\n",
              "    </tr>\n",
              "    <tr>\n",
              "      <th>3</th>\n",
              "      <td>309_4</td>\n",
              "      <td>0.442107</td>\n",
              "      <td>0.617076</td>\n",
              "      <td>0.358626</td>\n",
              "      <td>2.466947</td>\n",
              "      <td>4.979503</td>\n",
              "      <td>0.222886</td>\n",
              "      <td>0.176463</td>\n",
              "      <td>2.152301</td>\n",
              "      <td>0.207004</td>\n",
              "      <td>...</td>\n",
              "      <td>0.111262</td>\n",
              "      <td>0.391691</td>\n",
              "      <td>0.130405</td>\n",
              "      <td>0.147444</td>\n",
              "      <td>0.146901</td>\n",
              "      <td>1.700563</td>\n",
              "      <td>Control</td>\n",
              "      <td>Memantine</td>\n",
              "      <td>C/S</td>\n",
              "      <td>c-CS-m</td>\n",
              "    </tr>\n",
              "    <tr>\n",
              "      <th>4</th>\n",
              "      <td>309_5</td>\n",
              "      <td>0.434940</td>\n",
              "      <td>0.617430</td>\n",
              "      <td>0.358802</td>\n",
              "      <td>2.365785</td>\n",
              "      <td>4.718679</td>\n",
              "      <td>0.213106</td>\n",
              "      <td>0.173627</td>\n",
              "      <td>2.134014</td>\n",
              "      <td>0.192158</td>\n",
              "      <td>...</td>\n",
              "      <td>0.110694</td>\n",
              "      <td>0.434154</td>\n",
              "      <td>0.118481</td>\n",
              "      <td>0.140314</td>\n",
              "      <td>0.148380</td>\n",
              "      <td>1.839730</td>\n",
              "      <td>Control</td>\n",
              "      <td>Memantine</td>\n",
              "      <td>C/S</td>\n",
              "      <td>c-CS-m</td>\n",
              "    </tr>\n",
              "  </tbody>\n",
              "</table>\n",
              "<p>5 rows × 82 columns</p>\n",
              "</div>\n",
              "    <div class=\"colab-df-buttons\">\n",
              "\n",
              "  <div class=\"colab-df-container\">\n",
              "    <button class=\"colab-df-convert\" onclick=\"convertToInteractive('df-8ab72f08-b82b-4a6d-9ac1-0513d2a4c64d')\"\n",
              "            title=\"Convert this dataframe to an interactive table.\"\n",
              "            style=\"display:none;\">\n",
              "\n",
              "  <svg xmlns=\"http://www.w3.org/2000/svg\" height=\"24px\" viewBox=\"0 -960 960 960\">\n",
              "    <path d=\"M120-120v-720h720v720H120Zm60-500h600v-160H180v160Zm220 220h160v-160H400v160Zm0 220h160v-160H400v160ZM180-400h160v-160H180v160Zm440 0h160v-160H620v160ZM180-180h160v-160H180v160Zm440 0h160v-160H620v160Z\"/>\n",
              "  </svg>\n",
              "    </button>\n",
              "\n",
              "  <style>\n",
              "    .colab-df-container {\n",
              "      display:flex;\n",
              "      gap: 12px;\n",
              "    }\n",
              "\n",
              "    .colab-df-convert {\n",
              "      background-color: #E8F0FE;\n",
              "      border: none;\n",
              "      border-radius: 50%;\n",
              "      cursor: pointer;\n",
              "      display: none;\n",
              "      fill: #1967D2;\n",
              "      height: 32px;\n",
              "      padding: 0 0 0 0;\n",
              "      width: 32px;\n",
              "    }\n",
              "\n",
              "    .colab-df-convert:hover {\n",
              "      background-color: #E2EBFA;\n",
              "      box-shadow: 0px 1px 2px rgba(60, 64, 67, 0.3), 0px 1px 3px 1px rgba(60, 64, 67, 0.15);\n",
              "      fill: #174EA6;\n",
              "    }\n",
              "\n",
              "    .colab-df-buttons div {\n",
              "      margin-bottom: 4px;\n",
              "    }\n",
              "\n",
              "    [theme=dark] .colab-df-convert {\n",
              "      background-color: #3B4455;\n",
              "      fill: #D2E3FC;\n",
              "    }\n",
              "\n",
              "    [theme=dark] .colab-df-convert:hover {\n",
              "      background-color: #434B5C;\n",
              "      box-shadow: 0px 1px 3px 1px rgba(0, 0, 0, 0.15);\n",
              "      filter: drop-shadow(0px 1px 2px rgba(0, 0, 0, 0.3));\n",
              "      fill: #FFFFFF;\n",
              "    }\n",
              "  </style>\n",
              "\n",
              "    <script>\n",
              "      const buttonEl =\n",
              "        document.querySelector('#df-8ab72f08-b82b-4a6d-9ac1-0513d2a4c64d button.colab-df-convert');\n",
              "      buttonEl.style.display =\n",
              "        google.colab.kernel.accessAllowed ? 'block' : 'none';\n",
              "\n",
              "      async function convertToInteractive(key) {\n",
              "        const element = document.querySelector('#df-8ab72f08-b82b-4a6d-9ac1-0513d2a4c64d');\n",
              "        const dataTable =\n",
              "          await google.colab.kernel.invokeFunction('convertToInteractive',\n",
              "                                                    [key], {});\n",
              "        if (!dataTable) return;\n",
              "\n",
              "        const docLinkHtml = 'Like what you see? Visit the ' +\n",
              "          '<a target=\"_blank\" href=https://colab.research.google.com/notebooks/data_table.ipynb>data table notebook</a>'\n",
              "          + ' to learn more about interactive tables.';\n",
              "        element.innerHTML = '';\n",
              "        dataTable['output_type'] = 'display_data';\n",
              "        await google.colab.output.renderOutput(dataTable, element);\n",
              "        const docLink = document.createElement('div');\n",
              "        docLink.innerHTML = docLinkHtml;\n",
              "        element.appendChild(docLink);\n",
              "      }\n",
              "    </script>\n",
              "  </div>\n",
              "\n",
              "\n",
              "<div id=\"df-6f36719e-c900-49c1-bf2b-7d01adf2e33f\">\n",
              "  <button class=\"colab-df-quickchart\" onclick=\"quickchart('df-6f36719e-c900-49c1-bf2b-7d01adf2e33f')\"\n",
              "            title=\"Suggest charts\"\n",
              "            style=\"display:none;\">\n",
              "\n",
              "<svg xmlns=\"http://www.w3.org/2000/svg\" height=\"24px\"viewBox=\"0 0 24 24\"\n",
              "     width=\"24px\">\n",
              "    <g>\n",
              "        <path d=\"M19 3H5c-1.1 0-2 .9-2 2v14c0 1.1.9 2 2 2h14c1.1 0 2-.9 2-2V5c0-1.1-.9-2-2-2zM9 17H7v-7h2v7zm4 0h-2V7h2v10zm4 0h-2v-4h2v4z\"/>\n",
              "    </g>\n",
              "</svg>\n",
              "  </button>\n",
              "\n",
              "<style>\n",
              "  .colab-df-quickchart {\n",
              "      --bg-color: #E8F0FE;\n",
              "      --fill-color: #1967D2;\n",
              "      --hover-bg-color: #E2EBFA;\n",
              "      --hover-fill-color: #174EA6;\n",
              "      --disabled-fill-color: #AAA;\n",
              "      --disabled-bg-color: #DDD;\n",
              "  }\n",
              "\n",
              "  [theme=dark] .colab-df-quickchart {\n",
              "      --bg-color: #3B4455;\n",
              "      --fill-color: #D2E3FC;\n",
              "      --hover-bg-color: #434B5C;\n",
              "      --hover-fill-color: #FFFFFF;\n",
              "      --disabled-bg-color: #3B4455;\n",
              "      --disabled-fill-color: #666;\n",
              "  }\n",
              "\n",
              "  .colab-df-quickchart {\n",
              "    background-color: var(--bg-color);\n",
              "    border: none;\n",
              "    border-radius: 50%;\n",
              "    cursor: pointer;\n",
              "    display: none;\n",
              "    fill: var(--fill-color);\n",
              "    height: 32px;\n",
              "    padding: 0;\n",
              "    width: 32px;\n",
              "  }\n",
              "\n",
              "  .colab-df-quickchart:hover {\n",
              "    background-color: var(--hover-bg-color);\n",
              "    box-shadow: 0 1px 2px rgba(60, 64, 67, 0.3), 0 1px 3px 1px rgba(60, 64, 67, 0.15);\n",
              "    fill: var(--button-hover-fill-color);\n",
              "  }\n",
              "\n",
              "  .colab-df-quickchart-complete:disabled,\n",
              "  .colab-df-quickchart-complete:disabled:hover {\n",
              "    background-color: var(--disabled-bg-color);\n",
              "    fill: var(--disabled-fill-color);\n",
              "    box-shadow: none;\n",
              "  }\n",
              "\n",
              "  .colab-df-spinner {\n",
              "    border: 2px solid var(--fill-color);\n",
              "    border-color: transparent;\n",
              "    border-bottom-color: var(--fill-color);\n",
              "    animation:\n",
              "      spin 1s steps(1) infinite;\n",
              "  }\n",
              "\n",
              "  @keyframes spin {\n",
              "    0% {\n",
              "      border-color: transparent;\n",
              "      border-bottom-color: var(--fill-color);\n",
              "      border-left-color: var(--fill-color);\n",
              "    }\n",
              "    20% {\n",
              "      border-color: transparent;\n",
              "      border-left-color: var(--fill-color);\n",
              "      border-top-color: var(--fill-color);\n",
              "    }\n",
              "    30% {\n",
              "      border-color: transparent;\n",
              "      border-left-color: var(--fill-color);\n",
              "      border-top-color: var(--fill-color);\n",
              "      border-right-color: var(--fill-color);\n",
              "    }\n",
              "    40% {\n",
              "      border-color: transparent;\n",
              "      border-right-color: var(--fill-color);\n",
              "      border-top-color: var(--fill-color);\n",
              "    }\n",
              "    60% {\n",
              "      border-color: transparent;\n",
              "      border-right-color: var(--fill-color);\n",
              "    }\n",
              "    80% {\n",
              "      border-color: transparent;\n",
              "      border-right-color: var(--fill-color);\n",
              "      border-bottom-color: var(--fill-color);\n",
              "    }\n",
              "    90% {\n",
              "      border-color: transparent;\n",
              "      border-bottom-color: var(--fill-color);\n",
              "    }\n",
              "  }\n",
              "</style>\n",
              "\n",
              "  <script>\n",
              "    async function quickchart(key) {\n",
              "      const quickchartButtonEl =\n",
              "        document.querySelector('#' + key + ' button');\n",
              "      quickchartButtonEl.disabled = true;  // To prevent multiple clicks.\n",
              "      quickchartButtonEl.classList.add('colab-df-spinner');\n",
              "      try {\n",
              "        const charts = await google.colab.kernel.invokeFunction(\n",
              "            'suggestCharts', [key], {});\n",
              "      } catch (error) {\n",
              "        console.error('Error during call to suggestCharts:', error);\n",
              "      }\n",
              "      quickchartButtonEl.classList.remove('colab-df-spinner');\n",
              "      quickchartButtonEl.classList.add('colab-df-quickchart-complete');\n",
              "    }\n",
              "    (() => {\n",
              "      let quickchartButtonEl =\n",
              "        document.querySelector('#df-6f36719e-c900-49c1-bf2b-7d01adf2e33f button');\n",
              "      quickchartButtonEl.style.display =\n",
              "        google.colab.kernel.accessAllowed ? 'block' : 'none';\n",
              "    })();\n",
              "  </script>\n",
              "</div>\n",
              "\n",
              "    </div>\n",
              "  </div>\n"
            ],
            "application/vnd.google.colaboratory.intrinsic+json": {
              "type": "dataframe",
              "variable_name": "df"
            }
          },
          "metadata": {},
          "execution_count": 3
        }
      ]
    },
    {
      "cell_type": "code",
      "source": [
        "df_t_CS_s = df[df['class'] == 't-CS-s']\n",
        "df_c_CS_s = df[df['class'] == 'c-CS-s']"
      ],
      "metadata": {
        "id": "2ZGhXFibxRer"
      },
      "execution_count": 4,
      "outputs": []
    },
    {
      "cell_type": "code",
      "source": [
        "# df['class'].unique()"
      ],
      "metadata": {
        "id": "1qbC_akCyEcy"
      },
      "execution_count": 5,
      "outputs": []
    },
    {
      "cell_type": "code",
      "source": [
        "print(\"Shape of DF for Class t-CS-s:\",df_t_CS_s.shape)\n",
        "print(\"Shape of DF for Class c-CS-s:\",df_c_CS_s.shape)"
      ],
      "metadata": {
        "colab": {
          "base_uri": "https://localhost:8080/",
          "height": 0
        },
        "id": "yixzWg3ExR2E",
        "outputId": "9132b544-3500-4526-ab66-950d148a8d62"
      },
      "execution_count": 6,
      "outputs": [
        {
          "output_type": "stream",
          "name": "stdout",
          "text": [
            "Shape of DF for Class t-CS-s: (105, 82)\n",
            "Shape of DF for Class c-CS-s: (135, 82)\n"
          ]
        }
      ]
    },
    {
      "cell_type": "markdown",
      "source": [
        "For t-CS-s class **105** mic were studied\n",
        "\n",
        "For c_CS_s class **135** mice were studied"
      ],
      "metadata": {
        "id": "WpBCRwZIypsQ"
      }
    },
    {
      "cell_type": "markdown",
      "source": [
        "### b) Create a parallel coordinates plot with plotly from the following 5 proteins: (pPKCG N, pP70S6 N, pS6 N, pGSK3B N, ARC N). Assign different colors to the two selected classes. Annotate every axis with the correct protein name. (9P)"
      ],
      "metadata": {
        "id": "KcCePj3YzRRx"
      }
    },
    {
      "cell_type": "code",
      "source": [
        "# Concatenate the two dataframes for plotting\n",
        "df_combined = pd.concat([df_t_CS_s, df_c_CS_s])\n",
        "\n",
        "# Select the proteins and the class column\n",
        "proteins = ['pPKCG_N', 'pP70S6_N', 'pS6_N', 'pGSK3B_N', 'ARC_N']\n",
        "df_plot = df_combined[proteins + ['class']]\n",
        "\n",
        "# Convert class to category codes for numeric coloring\n",
        "df_plot['class_code'] = df_plot['class'].astype('category').cat.codes\n",
        "class_mapping = dict(enumerate(df_plot['class'].astype('category').cat.categories))\n",
        "\n",
        "# Create the parallel coordinates plot\n",
        "fig = px.parallel_coordinates(\n",
        "    df_plot,\n",
        "    color=\"class_code\",\n",
        "    dimensions=proteins,\n",
        "    ##labels={**{protein: protein for protein in proteins}, \"class_code\": \"class\"},\n",
        "    color_continuous_scale=px.colors.diverging.Tealrose,\n",
        "    range_color=[df_plot['class_code'].min(), df_plot['class_code'].max()]\n",
        ")\n",
        "\n",
        "fig.update_coloraxes(colorbar=dict(\n",
        "    tickvals=list(class_mapping.keys()),\n",
        "    ticktext=list(class_mapping.values()),\n",
        "    title=\"Class\"\n",
        "))\n",
        "\n",
        "fig.show()\n"
      ],
      "metadata": {
        "colab": {
          "base_uri": "https://localhost:8080/",
          "height": 542
        },
        "id": "VmBqCCylxexO",
        "outputId": "adaf7d34-8543-4d76-81aa-a3c8fab3f09c"
      },
      "execution_count": 7,
      "outputs": [
        {
          "output_type": "display_data",
          "data": {
            "text/html": [
              "<html>\n",
              "<head><meta charset=\"utf-8\" /></head>\n",
              "<body>\n",
              "    <div>            <script src=\"https://cdnjs.cloudflare.com/ajax/libs/mathjax/2.7.5/MathJax.js?config=TeX-AMS-MML_SVG\"></script><script type=\"text/javascript\">if (window.MathJax && window.MathJax.Hub && window.MathJax.Hub.Config) {window.MathJax.Hub.Config({SVG: {font: \"STIX-Web\"}});}</script>                <script type=\"text/javascript\">window.PlotlyConfig = {MathJaxConfig: 'local'};</script>\n",
              "        <script charset=\"utf-8\" src=\"https://cdn.plot.ly/plotly-2.35.2.min.js\"></script>                <div id=\"5e0ff237-8b05-4ae5-94aa-572f70368ac4\" class=\"plotly-graph-div\" style=\"height:525px; width:100%;\"></div>            <script type=\"text/javascript\">                                    window.PLOTLYENV=window.PLOTLYENV || {};                                    if (document.getElementById(\"5e0ff237-8b05-4ae5-94aa-572f70368ac4\")) {                    Plotly.newPlot(                        \"5e0ff237-8b05-4ae5-94aa-572f70368ac4\",                        [{\"dimensions\":[{\"label\":\"pPKCG_N\",\"values\":[1.371937429,1.360375587,1.377058178,1.372811406,1.35037037,1.378710216,1.430487053,1.372648552,1.430713857,1.303760648,1.342414082,1.298555377,1.405691057,1.44832075,1.436552275,2.797498383,2.769209735,2.689259866,2.924933539,2.84716493,2.874566634,2.905648774,2.86971587,2.90247325,3.244001863,3.143166781,3.057888254,3.271541686,3.100853711,3.199303237,2.75404157,2.678633784,2.644185919,2.817914936,2.847875515,2.846100181,2.635376192,2.630346144,2.619702277,2.366197183,2.404227783,2.423177938,2.088050314,2.111933669,2.117320114,0.964972569,0.925415533,0.931353919,0.985472732,0.976432052,0.96280927,1.013377216,1.011932666,0.957067511,0.943158471,0.954336043,0.942028986,0.975609756,0.947100527,0.950225428,0.838123298,0.819144315,0.759090909,0.803371553,0.803947719,0.786480827,0.753728011,0.766716589,0.766733223,0.702721166,0.712687832,0.71000559,0.680026543,0.684798131,0.697358197,2.183707398,2.044909836,2.015239668,2.234059098,2.131562974,2.080027528,2.198800518,2.156958797,2.123717482,2.022421949,2.053606329,1.926367713,2.014671362,2.017631365,1.966621098,2.369041517,2.264222433,2.249591459,2.306588775,2.266460678,2.186394271,2.210713942,2.102639575,2.147194719,2.101191192,2.10695122,2.083990148,2.045874338,2.128058222,2.160518599,1.661612515,1.678407054,1.578563803,1.950056897,2.005070994,1.989199029,2.169068204,2.127911938,2.151489859,2.462309779,2.451052997,2.444780466,2.619760036,2.684853776,2.668791614,1.657269545,1.679637656,1.661973781,1.974494123,1.980847819,1.897875058,2.211763787,2.062910368,2.09241288,2.086628078,2.124963014,2.10187747,2.190117848,2.111944523,2.100185264,2.07845453,1.956188022,2.001351884,2.209325704,2.166768432,2.145220588,2.540962158,2.446942801,2.467143141,2.645190445,2.606393733,2.547950357,2.730900243,2.745233399,2.689800551,1.412654052,1.315922875,1.265494792,1.64974133,1.624062945,1.58618798,1.895635981,1.854991634,1.808996593,1.895954921,1.922438234,1.887024273,1.962158809,1.905619335,1.829854369,1.335637651,1.246216275,1.243907818,1.458986175,1.45185506,1.418110795,1.598158653,1.595975667,1.580236565,1.477476504,1.543677391,1.578832703,1.551221666,1.612579359,1.750428683,0.636889909,0.617324673,0.643948172,0.686856174,0.681435299,0.680375229,0.682622268,0.67214708,0.680589681,0.687159905,0.642005003,0.667836727,0.669309762,0.648606203,0.634474328,1.245095989,1.234653628,1.305401662,1.651199412,1.560605289,1.586130875,2.070927514,1.96706794,1.925605302,2.096985342,2.096131088,2.058823529,2.132292616,2.143397091,2.130584192,2.097097097,2.059918021,2.128720799,2.285291762,2.312306549,2.342442624,2.218503633,2.231778656,2.271953081,2.196845851,2.191180794,2.26121909,2.086094288,2.125437643,2.149955969,0.886788814,0.882649033,0.913990256,0.940346936,0.980769231,0.948623151,0.97841484,1.041352725,0.957876712,0.968837914,0.971334792,0.947368421,1.020640144,1.069144076,1.004484305]},{\"label\":\"pP70S6_N\",\"values\":[0.157004021,0.167183196,0.176391683,0.20332681,0.22065533,0.229162482,0.220375208,0.242446394,0.266682669,0.249683143,0.265365854,0.27792124,0.269314869,0.264144012,0.564937388,0.320257017,0.336240807,0.349047408,0.471417023,0.473177603,0.526543358,0.542930661,0.543187767,0.551747044,0.524337867,0.518225893,0.461237785,0.427373757,0.459393939,0.402628217,0.305824803,0.303202342,0.291468777,0.405588868,0.416294771,0.435813953,0.335080645,0.349927181,0.359267735,0.542022792,0.55082199,0.570095073,0.436614095,0.443121951,0.462184874,0.147007554,0.153142403,0.152908925,0.144701907,0.158338827,0.159016608,0.151046699,0.150439542,0.152268908,0.156148091,0.179581045,0.152966102,0.154326494,0.154099906,0.146743979,0.152610041,0.152532215,0.141763204,0.142653722,0.145118399,0.139845309,0.153619391,0.167682927,0.154587006,0.156851748,0.16188931,0.169273229,0.191141069,0.189953271,0.194690265,0.196414817,0.197558189,0.198556458,0.200833649,0.208022923,0.201883626,0.228199719,0.244333095,0.220799241,0.271652931,0.262266262,0.250797024,0.218840333,0.249351548,0.241252977,0.214336472,0.206596142,0.21087449,0.328341445,0.320239431,0.31472907,0.358427309,0.3618758,0.356726987,0.331192661,0.344511722,0.34214619,0.295475531,0.312859529,0.327255461,0.331341953,0.361779723,0.388649886,0.445886443,0.447196422,0.482791248,0.598103808,0.659340659,0.717144311,0.451937173,0.494765494,0.531072256,0.510257759,0.563142631,0.600463679,0.307146565,0.323365786,0.355199007,0.480150783,0.488667379,0.558500478,0.466044508,0.505072783,0.521732789,0.362918045,0.352336123,0.381985294,0.37206402,0.349478079,0.343058142,0.392127253,0.396697503,0.418728822,0.572590898,0.612436449,0.66027506,0.704218443,0.717694805,0.728020648,0.656180194,0.686293071,0.701021356,0.689747278,0.754378561,0.784359191,0.239126907,0.232268632,0.222576023,0.26614338,0.255969535,0.261993383,0.373931896,0.368745285,0.373867069,0.297341943,0.308020088,0.289645939,0.35086727,0.361567164,0.369905956,0.24524534,0.242903375,0.243681141,0.32185332,0.307996643,0.294997057,0.340634921,0.333385093,0.318626042,0.378920954,0.359530442,0.337688044,0.200523756,0.209477957,0.197200074,0.246821747,0.176868158,0.1933295,0.238736492,0.174703264,0.221136225,0.242916584,0.16686039,0.205839681,0.242236025,0.152069161,0.232216216,0.253194888,0.22367546,0.254917388,0.231301027,0.217962416,0.204290707,0.204569915,0.202480344,0.179013255,0.205133387,0.197093195,0.185490196,0.209836475,0.181279621,0.185609158,0.200211225,0.174332448,0.186998855,0.272322847,0.266347437,0.255926388,0.33416434,0.317760655,0.299822064,0.399424208,0.385628153,0.368490679,0.46037498,0.426862925,0.422795763,0.40609319,0.375649463,0.366380789,0.218793584,0.215272979,0.205847357,0.252071823,0.227508455,0.242192618,0.246001103,0.236016371,0.234432234,0.251154529,0.27077748,0.254960317,0.252412196,0.25846926,0.248867069]},{\"label\":\"pS6_N\",\"values\":[0.122125895,0.12084507,0.124679839,0.124812406,0.117407407,0.123137442,0.122996301,0.129740221,0.121625675,0.114897154,0.115674769,0.097712681,0.146612466,0.109867222,0.112529928,0.123948674,0.119278097,0.115431349,0.118791101,0.115989653,0.116419359,0.111657735,0.110793486,0.111734783,0.116352201,0.111339265,0.110401971,0.112870672,0.106352192,0.104514443,0.130924887,0.128328241,0.130055424,0.109480166,0.11276112,0.110646016,0.102348993,0.104710679,0.104903678,0.08992416,0.091566005,0.101444517,0.089098532,0.095202843,0.097190927,0.117803099,0.121486854,0.116508314,0.122092562,0.114564193,0.113059818,0.122836819,0.111442574,0.107805907,0.108204356,0.103658537,0.102120236,0.111212232,0.113070351,0.104418395,0.118183334,0.125746552,0.129491342,0.113704614,0.116497733,0.11241984,0.103759264,0.113998767,0.113551524,0.083798247,0.092192973,0.09077697,0.105640345,0.104894197,0.105542606,0.123975775,0.126880815,0.11673736,0.117988595,0.116186141,0.109374232,0.108566755,0.109649711,0.105911167,0.1,0.107119591,0.105829596,0.095892019,0.102308317,0.104807473,0.118685574,0.113556583,0.108998802,0.114619537,0.116898404,0.113030048,0.108777339,0.106532472,0.110042433,0.096257971,0.096219512,0.100738916,0.098713096,0.102198823,0.106034882,0.121155235,0.125333075,0.118600009,0.117713997,0.124239351,0.117050971,0.1074142,0.115453537,0.105917703,0.115017105,0.110853969,0.108086918,0.104873352,0.104612251,0.100864145,0.125227538,0.132908002,0.128738922,0.127771719,0.132967368,0.12854157,0.116388064,0.121545274,0.115791795,0.10615128,0.107801558,0.102964427,0.107056652,0.099632041,0.102180419,0.119734548,0.118886212,0.116487354,0.120012372,0.115554877,0.113893995,0.117049114,0.115483235,0.113758189,0.122659781,0.115365176,0.113827253,0.113706407,0.118836292,0.113993838,0.120263893,0.124920793,0.115538194,0.118988312,0.116597485,0.114104596,0.115942029,0.10286033,0.115438216,0.112497484,0.112697448,0.116771551,0.101240695,0.099818731,0.107281553,0.114036058,0.110111867,0.112801852,0.109252038,0.107044897,0.108948864,0.104807961,0.101731399,0.105150414,0.090310036,0.095174263,0.095172572,0.094053577,0.099512771,0.105533905,0.114083242,0.116867959,0.117296956,0.108684313,0.109305565,0.107402624,0.116064996,0.11411679,0.10958231,0.09947494,0.097844911,0.10580684,0.101260887,0.093705012,0.102010323,0.138608892,0.140972964,0.133737983,0.13374626,0.132827228,0.126766209,0.125203713,0.121627231,0.119099148,0.115700194,0.111242604,0.112722715,0.110186873,0.108807697,0.105531538,0.12016562,0.125362686,0.116239638,0.112083308,0.114770336,0.111437684,0.111377338,0.117786561,0.107013738,0.107125685,0.107986281,0.107459041,0.099750623,0.094893155,0.1012706,0.109836066,0.11547572,0.118424978,0.108074379,0.113835829,0.110530342,0.103541315,0.111617312,0.108390411,0.094784679,0.100875274,0.10569634,0.108884236,0.104477612,0.118983558]},{\"label\":\"pGSK3B_N\",\"values\":[0.166792311,0.175962441,0.181668496,0.170835418,0.173209877,0.169626892,0.170468557,0.169901463,0.176064787,0.172657386,0.222967309,0.170545746,0.173170732,0.173652695,0.186219739,0.211774854,0.197648346,0.196154049,0.188750525,0.176606306,0.183955069,0.172537995,0.162768538,0.169531661,0.20055905,0.191763632,0.179823088,0.198726906,0.179424106,0.175932646,0.203288244,0.186436054,0.187674916,0.173349563,0.164132443,0.1685503,0.163281526,0.158150429,0.15849387,0.138028169,0.140207075,0.148391333,0.144654088,0.141545751,0.150518251,0.173087358,0.161619825,0.157422803,0.166547591,0.16417672,0.166144692,0.174222317,0.174621777,0.171308017,0.181618956,0.172222222,0.172839506,0.182198762,0.176876931,0.175293057,0.162265829,0.171571289,0.173430736,0.159363909,0.165577487,0.159795838,0.14653094,0.1601621,0.156176751,0.116247296,0.145633262,0.150922303,0.146250829,0.152927431,0.163558664,0.196928314,0.184348559,0.177395743,0.177449456,0.170864947,0.167772698,0.175628706,0.168702188,0.154497915,0.161210974,0.169194974,0.154170404,0.173591549,0.172949774,0.157439052,0.196366536,0.188945228,0.17512801,0.187310508,0.175163687,0.180497051,0.176028519,0.176414736,0.177369165,0.160389845,0.163292683,0.158251232,0.165026495,0.166305358,0.176724803,0.169434416,0.16971077,0.178248155,0.16190416,0.163666329,0.166686893,0.164439787,0.159569929,0.16367582,0.167040226,0.166512381,0.170922939,0.159531921,0.1581551,0.1586627,0.185390898,0.196951249,0.198809084,0.175875439,0.181823727,0.18474222,0.165677238,0.164757978,0.169680929,0.160404199,0.165203669,0.165909091,0.158029249,0.167138409,0.164172723,0.161970643,0.162137935,0.167520982,0.156356325,0.155014502,0.159313725,0.159621578,0.155621302,0.156839389,0.166042608,0.164518575,0.166478626,0.160583942,0.162886259,0.161666937,0.171576488,0.173802842,0.15859375,0.164782525,0.15649588,0.151529928,0.154967209,0.146601864,0.147956024,0.151338297,0.148035642,0.145539906,0.142431762,0.136314199,0.141504854,0.218172768,0.212162755,0.213639872,0.194186459,0.192363216,0.186647727,0.192969404,0.186055218,0.177703269,0.158150589,0.159852547,0.160532049,0.164704151,0.175549978,0.175370226,0.158698473,0.162488582,0.166438428,0.153866215,0.158585926,0.166949901,0.15792844,0.160362841,0.158804259,0.147589499,0.149124495,0.160866513,0.161315482,0.161889805,0.17142081,0.253210088,0.244309311,0.227798599,0.226917222,0.214398533,0.21324782,0.211790548,0.199114432,0.190382795,0.197289573,0.186436049,0.181573999,0.179922516,0.178673691,0.179913535,0.222722723,0.221295998,0.216512811,0.20463368,0.203231398,0.199424676,0.194929665,0.19541502,0.196513216,0.188479662,0.19088682,0.188765646,0.183826149,0.180852348,0.180022644,0.167791707,0.173410975,0.176394551,0.180207163,0.192307692,0.181540031,0.196458685,0.204836166,0.205136986,0.203419173,0.214004376,0.205977908,0.243493868,0.222966799,0.22690583]},{\"label\":\"ARC_N\",\"values\":[0.122125895,0.12084507,0.124679839,0.124812406,0.117407407,0.123137442,0.122996301,0.129740221,0.121625675,0.114897154,0.115674769,0.097712681,0.146612466,0.109867222,0.112529928,0.123948674,0.119278097,0.115431349,0.118791101,0.115989653,0.116419359,0.111657735,0.110793486,0.111734783,0.116352201,0.111339265,0.110401971,0.112870672,0.106352192,0.104514443,0.130924887,0.128328241,0.130055424,0.109480166,0.11276112,0.110646016,0.102348993,0.104710679,0.104903678,0.08992416,0.091566005,0.101444517,0.089098532,0.095202843,0.097190927,0.117803099,0.121486854,0.116508314,0.122092562,0.114564193,0.113059818,0.122836819,0.111442574,0.107805907,0.108204356,0.103658537,0.102120236,0.111212232,0.113070351,0.104418395,0.118183334,0.125746552,0.129491342,0.113704614,0.116497733,0.11241984,0.103759264,0.113998767,0.113551524,0.083798247,0.092192973,0.09077697,0.105640345,0.104894197,0.105542606,0.123975775,0.126880815,0.11673736,0.117988595,0.116186141,0.109374232,0.108566755,0.109649711,0.105911167,0.1,0.107119591,0.105829596,0.095892019,0.102308317,0.104807473,0.118685574,0.113556583,0.108998802,0.114619537,0.116898404,0.113030048,0.108777339,0.106532472,0.110042433,0.096257971,0.096219512,0.100738916,0.098713096,0.102198823,0.106034882,0.121155235,0.125333075,0.118600009,0.117713997,0.124239351,0.117050971,0.1074142,0.115453537,0.105917703,0.115017105,0.110853969,0.108086918,0.104873352,0.104612251,0.100864145,0.125227538,0.132908002,0.128738922,0.127771719,0.132967368,0.12854157,0.116388064,0.121545274,0.115791795,0.10615128,0.107801558,0.102964427,0.107056652,0.099632041,0.102180419,0.119734548,0.118886212,0.116487354,0.120012372,0.115554877,0.113893995,0.117049114,0.115483235,0.113758189,0.122659781,0.115365176,0.113827253,0.113706407,0.118836292,0.113993838,0.120263893,0.124920793,0.115538194,0.118988312,0.116597485,0.114104596,0.115942029,0.10286033,0.115438216,0.112497484,0.112697448,0.116771551,0.101240695,0.099818731,0.107281553,0.114036058,0.110111867,0.112801852,0.109252038,0.107044897,0.108948864,0.104807961,0.101731399,0.105150414,0.090310036,0.095174263,0.095172572,0.094053577,0.099512771,0.105533905,0.114083242,0.116867959,0.117296956,0.108684313,0.109305565,0.107402624,0.116064996,0.11411679,0.10958231,0.09947494,0.097844911,0.10580684,0.101260887,0.093705012,0.102010323,0.138608892,0.140972964,0.133737983,0.13374626,0.132827228,0.126766209,0.125203713,0.121627231,0.119099148,0.115700194,0.111242604,0.112722715,0.110186873,0.108807697,0.105531538,0.12016562,0.125362686,0.116239638,0.112083308,0.114770336,0.111437684,0.111377338,0.117786561,0.107013738,0.107125685,0.107986281,0.107459041,0.099750623,0.094893155,0.1012706,0.109836066,0.11547572,0.118424978,0.108074379,0.113835829,0.110530342,0.103541315,0.111617312,0.108390411,0.094784679,0.100875274,0.10569634,0.108884236,0.104477612,0.118983558]}],\"domain\":{\"x\":[0.0,1.0],\"y\":[0.0,1.0]},\"line\":{\"color\":[1,1,1,1,1,1,1,1,1,1,1,1,1,1,1,1,1,1,1,1,1,1,1,1,1,1,1,1,1,1,1,1,1,1,1,1,1,1,1,1,1,1,1,1,1,1,1,1,1,1,1,1,1,1,1,1,1,1,1,1,1,1,1,1,1,1,1,1,1,1,1,1,1,1,1,1,1,1,1,1,1,1,1,1,1,1,1,1,1,1,1,1,1,1,1,1,1,1,1,1,1,1,1,1,1,0,0,0,0,0,0,0,0,0,0,0,0,0,0,0,0,0,0,0,0,0,0,0,0,0,0,0,0,0,0,0,0,0,0,0,0,0,0,0,0,0,0,0,0,0,0,0,0,0,0,0,0,0,0,0,0,0,0,0,0,0,0,0,0,0,0,0,0,0,0,0,0,0,0,0,0,0,0,0,0,0,0,0,0,0,0,0,0,0,0,0,0,0,0,0,0,0,0,0,0,0,0,0,0,0,0,0,0,0,0,0,0,0,0,0,0,0,0,0,0,0,0,0,0,0,0,0,0,0,0,0,0,0,0,0],\"coloraxis\":\"coloraxis\"},\"name\":\"\",\"type\":\"parcoords\"}],                        {\"template\":{\"data\":{\"histogram2dcontour\":[{\"type\":\"histogram2dcontour\",\"colorbar\":{\"outlinewidth\":0,\"ticks\":\"\"},\"colorscale\":[[0.0,\"#0d0887\"],[0.1111111111111111,\"#46039f\"],[0.2222222222222222,\"#7201a8\"],[0.3333333333333333,\"#9c179e\"],[0.4444444444444444,\"#bd3786\"],[0.5555555555555556,\"#d8576b\"],[0.6666666666666666,\"#ed7953\"],[0.7777777777777778,\"#fb9f3a\"],[0.8888888888888888,\"#fdca26\"],[1.0,\"#f0f921\"]]}],\"choropleth\":[{\"type\":\"choropleth\",\"colorbar\":{\"outlinewidth\":0,\"ticks\":\"\"}}],\"histogram2d\":[{\"type\":\"histogram2d\",\"colorbar\":{\"outlinewidth\":0,\"ticks\":\"\"},\"colorscale\":[[0.0,\"#0d0887\"],[0.1111111111111111,\"#46039f\"],[0.2222222222222222,\"#7201a8\"],[0.3333333333333333,\"#9c179e\"],[0.4444444444444444,\"#bd3786\"],[0.5555555555555556,\"#d8576b\"],[0.6666666666666666,\"#ed7953\"],[0.7777777777777778,\"#fb9f3a\"],[0.8888888888888888,\"#fdca26\"],[1.0,\"#f0f921\"]]}],\"heatmap\":[{\"type\":\"heatmap\",\"colorbar\":{\"outlinewidth\":0,\"ticks\":\"\"},\"colorscale\":[[0.0,\"#0d0887\"],[0.1111111111111111,\"#46039f\"],[0.2222222222222222,\"#7201a8\"],[0.3333333333333333,\"#9c179e\"],[0.4444444444444444,\"#bd3786\"],[0.5555555555555556,\"#d8576b\"],[0.6666666666666666,\"#ed7953\"],[0.7777777777777778,\"#fb9f3a\"],[0.8888888888888888,\"#fdca26\"],[1.0,\"#f0f921\"]]}],\"heatmapgl\":[{\"type\":\"heatmapgl\",\"colorbar\":{\"outlinewidth\":0,\"ticks\":\"\"},\"colorscale\":[[0.0,\"#0d0887\"],[0.1111111111111111,\"#46039f\"],[0.2222222222222222,\"#7201a8\"],[0.3333333333333333,\"#9c179e\"],[0.4444444444444444,\"#bd3786\"],[0.5555555555555556,\"#d8576b\"],[0.6666666666666666,\"#ed7953\"],[0.7777777777777778,\"#fb9f3a\"],[0.8888888888888888,\"#fdca26\"],[1.0,\"#f0f921\"]]}],\"contourcarpet\":[{\"type\":\"contourcarpet\",\"colorbar\":{\"outlinewidth\":0,\"ticks\":\"\"}}],\"contour\":[{\"type\":\"contour\",\"colorbar\":{\"outlinewidth\":0,\"ticks\":\"\"},\"colorscale\":[[0.0,\"#0d0887\"],[0.1111111111111111,\"#46039f\"],[0.2222222222222222,\"#7201a8\"],[0.3333333333333333,\"#9c179e\"],[0.4444444444444444,\"#bd3786\"],[0.5555555555555556,\"#d8576b\"],[0.6666666666666666,\"#ed7953\"],[0.7777777777777778,\"#fb9f3a\"],[0.8888888888888888,\"#fdca26\"],[1.0,\"#f0f921\"]]}],\"surface\":[{\"type\":\"surface\",\"colorbar\":{\"outlinewidth\":0,\"ticks\":\"\"},\"colorscale\":[[0.0,\"#0d0887\"],[0.1111111111111111,\"#46039f\"],[0.2222222222222222,\"#7201a8\"],[0.3333333333333333,\"#9c179e\"],[0.4444444444444444,\"#bd3786\"],[0.5555555555555556,\"#d8576b\"],[0.6666666666666666,\"#ed7953\"],[0.7777777777777778,\"#fb9f3a\"],[0.8888888888888888,\"#fdca26\"],[1.0,\"#f0f921\"]]}],\"mesh3d\":[{\"type\":\"mesh3d\",\"colorbar\":{\"outlinewidth\":0,\"ticks\":\"\"}}],\"scatter\":[{\"fillpattern\":{\"fillmode\":\"overlay\",\"size\":10,\"solidity\":0.2},\"type\":\"scatter\"}],\"parcoords\":[{\"type\":\"parcoords\",\"line\":{\"colorbar\":{\"outlinewidth\":0,\"ticks\":\"\"}}}],\"scatterpolargl\":[{\"type\":\"scatterpolargl\",\"marker\":{\"colorbar\":{\"outlinewidth\":0,\"ticks\":\"\"}}}],\"bar\":[{\"error_x\":{\"color\":\"#2a3f5f\"},\"error_y\":{\"color\":\"#2a3f5f\"},\"marker\":{\"line\":{\"color\":\"#E5ECF6\",\"width\":0.5},\"pattern\":{\"fillmode\":\"overlay\",\"size\":10,\"solidity\":0.2}},\"type\":\"bar\"}],\"scattergeo\":[{\"type\":\"scattergeo\",\"marker\":{\"colorbar\":{\"outlinewidth\":0,\"ticks\":\"\"}}}],\"scatterpolar\":[{\"type\":\"scatterpolar\",\"marker\":{\"colorbar\":{\"outlinewidth\":0,\"ticks\":\"\"}}}],\"histogram\":[{\"marker\":{\"pattern\":{\"fillmode\":\"overlay\",\"size\":10,\"solidity\":0.2}},\"type\":\"histogram\"}],\"scattergl\":[{\"type\":\"scattergl\",\"marker\":{\"colorbar\":{\"outlinewidth\":0,\"ticks\":\"\"}}}],\"scatter3d\":[{\"type\":\"scatter3d\",\"line\":{\"colorbar\":{\"outlinewidth\":0,\"ticks\":\"\"}},\"marker\":{\"colorbar\":{\"outlinewidth\":0,\"ticks\":\"\"}}}],\"scattermapbox\":[{\"type\":\"scattermapbox\",\"marker\":{\"colorbar\":{\"outlinewidth\":0,\"ticks\":\"\"}}}],\"scatterternary\":[{\"type\":\"scatterternary\",\"marker\":{\"colorbar\":{\"outlinewidth\":0,\"ticks\":\"\"}}}],\"scattercarpet\":[{\"type\":\"scattercarpet\",\"marker\":{\"colorbar\":{\"outlinewidth\":0,\"ticks\":\"\"}}}],\"carpet\":[{\"aaxis\":{\"endlinecolor\":\"#2a3f5f\",\"gridcolor\":\"white\",\"linecolor\":\"white\",\"minorgridcolor\":\"white\",\"startlinecolor\":\"#2a3f5f\"},\"baxis\":{\"endlinecolor\":\"#2a3f5f\",\"gridcolor\":\"white\",\"linecolor\":\"white\",\"minorgridcolor\":\"white\",\"startlinecolor\":\"#2a3f5f\"},\"type\":\"carpet\"}],\"table\":[{\"cells\":{\"fill\":{\"color\":\"#EBF0F8\"},\"line\":{\"color\":\"white\"}},\"header\":{\"fill\":{\"color\":\"#C8D4E3\"},\"line\":{\"color\":\"white\"}},\"type\":\"table\"}],\"barpolar\":[{\"marker\":{\"line\":{\"color\":\"#E5ECF6\",\"width\":0.5},\"pattern\":{\"fillmode\":\"overlay\",\"size\":10,\"solidity\":0.2}},\"type\":\"barpolar\"}],\"pie\":[{\"automargin\":true,\"type\":\"pie\"}]},\"layout\":{\"autotypenumbers\":\"strict\",\"colorway\":[\"#636efa\",\"#EF553B\",\"#00cc96\",\"#ab63fa\",\"#FFA15A\",\"#19d3f3\",\"#FF6692\",\"#B6E880\",\"#FF97FF\",\"#FECB52\"],\"font\":{\"color\":\"#2a3f5f\"},\"hovermode\":\"closest\",\"hoverlabel\":{\"align\":\"left\"},\"paper_bgcolor\":\"white\",\"plot_bgcolor\":\"#E5ECF6\",\"polar\":{\"bgcolor\":\"#E5ECF6\",\"angularaxis\":{\"gridcolor\":\"white\",\"linecolor\":\"white\",\"ticks\":\"\"},\"radialaxis\":{\"gridcolor\":\"white\",\"linecolor\":\"white\",\"ticks\":\"\"}},\"ternary\":{\"bgcolor\":\"#E5ECF6\",\"aaxis\":{\"gridcolor\":\"white\",\"linecolor\":\"white\",\"ticks\":\"\"},\"baxis\":{\"gridcolor\":\"white\",\"linecolor\":\"white\",\"ticks\":\"\"},\"caxis\":{\"gridcolor\":\"white\",\"linecolor\":\"white\",\"ticks\":\"\"}},\"coloraxis\":{\"colorbar\":{\"outlinewidth\":0,\"ticks\":\"\"}},\"colorscale\":{\"sequential\":[[0.0,\"#0d0887\"],[0.1111111111111111,\"#46039f\"],[0.2222222222222222,\"#7201a8\"],[0.3333333333333333,\"#9c179e\"],[0.4444444444444444,\"#bd3786\"],[0.5555555555555556,\"#d8576b\"],[0.6666666666666666,\"#ed7953\"],[0.7777777777777778,\"#fb9f3a\"],[0.8888888888888888,\"#fdca26\"],[1.0,\"#f0f921\"]],\"sequentialminus\":[[0.0,\"#0d0887\"],[0.1111111111111111,\"#46039f\"],[0.2222222222222222,\"#7201a8\"],[0.3333333333333333,\"#9c179e\"],[0.4444444444444444,\"#bd3786\"],[0.5555555555555556,\"#d8576b\"],[0.6666666666666666,\"#ed7953\"],[0.7777777777777778,\"#fb9f3a\"],[0.8888888888888888,\"#fdca26\"],[1.0,\"#f0f921\"]],\"diverging\":[[0,\"#8e0152\"],[0.1,\"#c51b7d\"],[0.2,\"#de77ae\"],[0.3,\"#f1b6da\"],[0.4,\"#fde0ef\"],[0.5,\"#f7f7f7\"],[0.6,\"#e6f5d0\"],[0.7,\"#b8e186\"],[0.8,\"#7fbc41\"],[0.9,\"#4d9221\"],[1,\"#276419\"]]},\"xaxis\":{\"gridcolor\":\"white\",\"linecolor\":\"white\",\"ticks\":\"\",\"title\":{\"standoff\":15},\"zerolinecolor\":\"white\",\"automargin\":true,\"zerolinewidth\":2},\"yaxis\":{\"gridcolor\":\"white\",\"linecolor\":\"white\",\"ticks\":\"\",\"title\":{\"standoff\":15},\"zerolinecolor\":\"white\",\"automargin\":true,\"zerolinewidth\":2},\"scene\":{\"xaxis\":{\"backgroundcolor\":\"#E5ECF6\",\"gridcolor\":\"white\",\"linecolor\":\"white\",\"showbackground\":true,\"ticks\":\"\",\"zerolinecolor\":\"white\",\"gridwidth\":2},\"yaxis\":{\"backgroundcolor\":\"#E5ECF6\",\"gridcolor\":\"white\",\"linecolor\":\"white\",\"showbackground\":true,\"ticks\":\"\",\"zerolinecolor\":\"white\",\"gridwidth\":2},\"zaxis\":{\"backgroundcolor\":\"#E5ECF6\",\"gridcolor\":\"white\",\"linecolor\":\"white\",\"showbackground\":true,\"ticks\":\"\",\"zerolinecolor\":\"white\",\"gridwidth\":2}},\"shapedefaults\":{\"line\":{\"color\":\"#2a3f5f\"}},\"annotationdefaults\":{\"arrowcolor\":\"#2a3f5f\",\"arrowhead\":0,\"arrowwidth\":1},\"geo\":{\"bgcolor\":\"white\",\"landcolor\":\"#E5ECF6\",\"subunitcolor\":\"white\",\"showland\":true,\"showlakes\":true,\"lakecolor\":\"white\"},\"title\":{\"x\":0.05},\"mapbox\":{\"style\":\"light\"}}},\"coloraxis\":{\"colorbar\":{\"title\":{\"text\":\"Class\"},\"tickvals\":[0,1],\"ticktext\":[\"c-CS-s\",\"t-CS-s\"]},\"colorscale\":[[0.0,\"rgb(0, 147, 146)\"],[0.16666666666666666,\"rgb(114, 170, 161)\"],[0.3333333333333333,\"rgb(177, 199, 179)\"],[0.5,\"rgb(241, 234, 200)\"],[0.6666666666666666,\"rgb(229, 185, 173)\"],[0.8333333333333334,\"rgb(217, 137, 148)\"],[1.0,\"rgb(208, 88, 126)\"]],\"cmin\":0,\"cmax\":1},\"legend\":{\"tracegroupgap\":0},\"margin\":{\"t\":60}},                        {\"responsive\": true}                    ).then(function(){\n",
              "                            \n",
              "var gd = document.getElementById('5e0ff237-8b05-4ae5-94aa-572f70368ac4');\n",
              "var x = new MutationObserver(function (mutations, observer) {{\n",
              "        var display = window.getComputedStyle(gd).display;\n",
              "        if (!display || display === 'none') {{\n",
              "            console.log([gd, 'removed!']);\n",
              "            Plotly.purge(gd);\n",
              "            observer.disconnect();\n",
              "        }}\n",
              "}});\n",
              "\n",
              "// Listen for the removal of the full notebook cells\n",
              "var notebookContainer = gd.closest('#notebook-container');\n",
              "if (notebookContainer) {{\n",
              "    x.observe(notebookContainer, {childList: true});\n",
              "}}\n",
              "\n",
              "// Listen for the clearing of the current output cell\n",
              "var outputEl = gd.closest('.output');\n",
              "if (outputEl) {{\n",
              "    x.observe(outputEl, {childList: true});\n",
              "}}\n",
              "\n",
              "                        })                };                            </script>        </div>\n",
              "</body>\n",
              "</html>"
            ]
          },
          "metadata": {}
        }
      ]
    },
    {
      "cell_type": "markdown",
      "source": [
        "### c) Explore the data by interacting with the parallel coordinates plot. Do you find anything suspicious about the data set? (1P)"
      ],
      "metadata": {
        "id": "Tc0nP0S7MjMR"
      }
    },
    {
      "cell_type": "markdown",
      "source": [
        "Yes. The dataset shows low variance across many protein features, significant overlap between the two classes, and potential outliers. This suggests some proteins may not contribute useful discriminatory information between the groups, and further analysis (e.g., statistical tests or feature selection) is necessary to isolate meaningful patterns."
      ],
      "metadata": {
        "id": "w6fUyemjNMgs"
      }
    },
    {
      "cell_type": "markdown",
      "source": [
        "#Exercise 2\n",
        "## (Comparing RadViz and Star Coordinates, 12 Points)\n",
        "\n",
        "In the lecture, we introduced star coordinates and RadViz as alternative radial data visualization techniques. The paper rubio-sanchez-radviz-sc-2016.pdf, which is available via eCampus, provides a closer investigation of their relationship. Please read it and answer the following questions in your\n",
        "own words. Remember that we will not grant even partial credit for copy-pasted text.\n"
      ],
      "metadata": {
        "id": "W1fTbUgIBlv-"
      }
    },
    {
      "cell_type": "markdown",
      "source": [
        "### a) As we mentioned in the lecture, the star coordinates, and RadViz are two popular multidimensional data visualization techniques. Why they can also be interpreted as dimensionality reduction techniques? (1P)"
      ],
      "metadata": {
        "id": "kOx1yR2HEkkE"
      }
    },
    {
      "cell_type": "markdown",
      "source": [
        "#### **Answer to question (a):**\n",
        "\n",
        "Star Coordinates and RadViz can be interpreted as **dimensionality reduction techniques** because they both **map high-dimensional data onto a low-dimensional (typically 2D) space**, making it possible to visualize complex datasets. Although their primary goal is visualization, they effectively perform a **projection from an n-dimensional space to a 2D space**, which is a core idea in dimensionality reduction.\n",
        "\n",
        "- **Star Coordinates (SC)** use a linear mapping: each data point is projected using a weighted sum of axis vectors representing the dimensions. This is similar to other linear dimensionality reduction methods like PCA.\n",
        "  \n",
        "- **RadViz**, on the other hand, performs a **nonlinear mapping** by interpreting data values as spring forces pulling towards anchor points (dimensions), and placing the point where these forces balance. This adds a normalization step, turning the projection into a **nonlinear transformation**.\n",
        "\n",
        "Both techniques simplify the representation of data, reducing it from many variables to two, while still preserving structural relationships hence, they qualify as dimensionality reduction methods."
      ],
      "metadata": {
        "id": "pEzmqHKtEg8h"
      }
    },
    {
      "cell_type": "markdown",
      "source": [
        "### b) In general, the authors of this paper prefer star coordinates over RadViz. Briefly explain two reasons for their preference. (2P)"
      ],
      "metadata": {
        "id": "dSj5IZUQGCPm"
      }
    },
    {
      "cell_type": "markdown",
      "source": [
        "#### **Answer to question (b):**\n",
        "\n",
        "The authors generally prefer **Star Coordinates (SC)** over **RadViz** for the following two key reasons:\n",
        "\n",
        "\n",
        "**1. RadViz introduces nonlinear distortions that hinder data interpretation**  \n",
        "RadViz includes a **normalization step** that turns the projection into a nonlinear mapping. This step can **distort the geometry** of the data in several ways:\n",
        "- It alters distances between points, making clusters appear larger or smaller depending on their position relative to the origin.\n",
        "\n",
        "In contrast, SC uses a **linear mapping**, preserving relative distances and shapes better, leading to **more faithful visualizations** of the original data structure.\n",
        "\n",
        "\n",
        "**2. SC allows more flexibility and supports linear mappings like PCA or LDA**  \n",
        "Star Coordinates let analysts choose axis vectors freely, making it possible to **reproduce known linear transformations** such as **Principal Component Analysis (PCA)**, **Linear Discriminant Analysis (LDA)**, and others. This flexibility enables:\n",
        "- **Better class or cluster separation**, especially in classification tasks.\n",
        "\n",
        "RadViz lacks this flexibility due to its **fixed normalization constraint** and nonlinear nature, which makes it **incapable of reproducing these valuable linear projections**.\n",
        "\n",
        "\n",
        "So in summary, the authors favor SC because it (1) preserves geometric properties more accurately and (2) supports interpretable, flexible linear mappings that aid in a wide range of analysis tasks."
      ],
      "metadata": {
        "id": "63QNRzUVGCAl"
      }
    },
    {
      "cell_type": "markdown",
      "source": [
        "### c) Despite this, the authors mention a specific use case where they consider RadViz to be superior to star coordinates. Briefly explain what this use case is and why they prefer RadViz in this case. (2P)"
      ],
      "metadata": {
        "id": "g1C-Br5VIOw-"
      }
    },
    {
      "cell_type": "markdown",
      "source": [
        "#### **Answer to question (c):**\n",
        "\n",
        "The authors consider **RadViz to be superior to Star Coordinates (SC) when  visualizing data is sparse**, i.e., when data samples contain only a few (related) attributes that are considerably larger than the rest..\n",
        "\n",
        "\n",
        "\n",
        "### **Use case: Sparse data visualization**\n",
        "\n",
        "**Sparse data** refers to data samples where **only one or a few attribute values are significantly larger than the rest** a common scenario in fields like **bioinformatics** , where only a few genes might be highly expressed in each sample.\n",
        "\n",
        "\n",
        "\n",
        "### **Why RadViz is preferred in this case:**\n",
        "- **RadViz’s normalization step** causes data points with **dominant attributes** to be **pulled strongly toward the corresponding anchor point**, making them stand out more clearly.\n",
        "- This means **sparse data points appear near the related dimension **, and **non-sparse data cluster around the center**, allowing **better visual separation** of sparse samples from the rest.\n",
        "- In contrast, in SC, **sparse and non-sparse points may overlap** more, making it harder to visually detect or distinguish sparse samples.\n",
        "\n",
        "\n",
        "So, although Star Coordinates are generally more flexible and preserve structure better, **RadViz excels in highlighting samples with a few standout features**, which is especially useful for detecting **dominant patterns in sparse datasets**."
      ],
      "metadata": {
        "id": "mAMHOwDQIOiL"
      }
    },
    {
      "cell_type": "markdown",
      "source": [
        "### d) Neither RadViz nor star coordinates provide a one-to-one mapping between a data point’s highdimensional location and its two-dimensional projection. Interactively modifying the anchor points or axes, respectively, can reduce the resulting ambiguities. However, the paper mentions two examples in which, unlike star coordinates, RadViz introduces ambiguities that cannot be resolved with any re-arrangement of the anchor points. Point out these two examples. Could the extended RadViz that we learned about in the lecture resolve them? (3P)"
      ],
      "metadata": {
        "id": "-jDMg2LHt5ER"
      }
    },
    {
      "cell_type": "markdown",
      "source": [
        "#### **Answer to (d):**\n",
        "\n",
        "The paper highlights **two cases** where RadViz creates ambiguities that **can’t be fixed**, even by changing the anchor points:\n",
        "\n",
        "1. **Cluster size distortion**: In RadViz, clusters closer to the origin appear larger because of the normalization step. This visual distortion doesn’t reflect the true size and **can’t be corrected** by reordering anchors.  \n",
        "2. **Overlapping classes**: Some classes (e.g., in the Iris dataset) always overlap in RadViz because it maps data to a **unit simplex**. This causes different classes to fall into the same area, and **no anchor layout** can separate them.\n",
        "\n",
        "**Extended RadViz** (like 3D RadViz or versions using extra dimensions) can **partially reduce** these issues—for example, by adding the distance to the origin—but they **don’t fully solve** the problems like **Star Coordinates**, which allow linear and flexible mappings."
      ],
      "metadata": {
        "id": "xEKQtYtwt4sP"
      }
    },
    {
      "cell_type": "code",
      "source": [],
      "metadata": {
        "id": "NOQZcT6-J593"
      },
      "execution_count": 7,
      "outputs": []
    }
  ]
}